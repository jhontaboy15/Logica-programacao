{
  "nbformat": 4,
  "nbformat_minor": 0,
  "metadata": {
    "colab": {
      "provenance": []
    },
    "kernelspec": {
      "name": "python3",
      "display_name": "Python 3"
    },
    "language_info": {
      "name": "python"
    }
  },
  "cells": [
    {
      "cell_type": "code",
      "execution_count": null,
      "metadata": {
        "id": "UdjJqs-e_MUf",
        "colab": {
          "base_uri": "https://localhost:8080/"
        },
        "outputId": "ba40c657-4ebf-466c-ed9b-4a3d4c5bb658"
      },
      "outputs": [
        {
          "output_type": "stream",
          "name": "stdout",
          "text": [
            "/nEscolha uma das opções\n",
            "1 Adição\n",
            "2 Subtração\n",
            "3 Multiplicação\n",
            "4 Divisão\n",
            "0 sair\n",
            "Escolha uma das opções a cima:10\n",
            "Erro, divisão por zero n permitido\n",
            "/nEscolha uma das opções\n",
            "1 Adição\n",
            "2 Subtração\n",
            "3 Multiplicação\n",
            "4 Divisão\n",
            "0 sair\n",
            "Escolha uma das opções a cima:5\n",
            "Erro, divisão por zero n permitido\n",
            "/nEscolha uma das opções\n",
            "1 Adição\n",
            "2 Subtração\n",
            "3 Multiplicação\n",
            "4 Divisão\n",
            "0 sair\n",
            "Escolha uma das opções a cima:1\n",
            "Digite o primeiro número:5\n",
            "Dite o segundo número:7\n",
            "Resultado da Adição: 12\n",
            "/nEscolha uma das opções\n",
            "1 Adição\n",
            "2 Subtração\n",
            "3 Multiplicação\n",
            "4 Divisão\n",
            "0 sair\n",
            "Escolha uma das opções a cima:0\n",
            "Saindo do programa...\n"
          ]
        }
      ],
      "source": [
        "while True: # Loop de calculadora\n",
        "  print(\"/nEscolha uma das opções\")\n",
        "  print(\"1\", 'Adição')\n",
        "  print('2', 'Subtração')\n",
        "  print('3', 'Multiplicação')\n",
        "  print('4', 'Divisão')\n",
        "  print('0', 'sair')\n",
        "  escolha = input(\"Escolha uma das opções a cima:\")\n",
        "  if escolha == '0': # opção para sair do programa\n",
        "    print('Saindo do programa...')\n",
        "    break\n",
        "  if escolha in ('1', '2', '3', '4', '0'):\n",
        "   num1 = int(input('Digite o primeiro número:'))\n",
        "   num2 = int(input('Dite o segundo número:'))\n",
        "\n",
        "  if escolha == '1':\n",
        "    operador = 'Adição'\n",
        "    resultado = num1 + num2\n",
        "  elif escolha == '2':\n",
        "    operador = 'Subtração'\n",
        "    resultado = num1 - num2\n",
        "  elif escolha == '3':\n",
        "    operador = 'Multiplicação'\n",
        "    resultado = num1 * num2\n",
        "  elif escolha == '4':\n",
        "    if num2 != 0: # Não utilizar '0' para somar\n",
        "     operador = 'Divisão'\n",
        "     resultado = num1 / num2\n",
        "  else:\n",
        "    print('Erro, divisão por zero n permitido')\n",
        "    continue\n",
        "\n",
        "  print(f\"Resultado da {operador}: {resultado}\")\n",
        "else:\n",
        "    print('Opção inválida, tente uma nova opção')"
      ]
    }
  ]
}