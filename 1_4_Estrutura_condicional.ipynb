{
  "nbformat": 4,
  "nbformat_minor": 0,
  "metadata": {
    "colab": {
      "provenance": [],
      "toc_visible": true
    },
    "kernelspec": {
      "name": "python3",
      "display_name": "Python 3"
    },
    "language_info": {
      "name": "python"
    }
  },
  "cells": [
    {
      "cell_type": "code",
      "execution_count": null,
      "metadata": {
        "colab": {
          "base_uri": "https://localhost:8080/"
        },
        "id": "1NAhotoi45XU",
        "outputId": "af23e32b-f2bc-4cbd-c75a-694291508821"
      },
      "outputs": [
        {
          "output_type": "stream",
          "name": "stdout",
          "text": [
            "10\n"
          ]
        }
      ],
      "source": [
        "x = 10\n",
        "print(x)"
      ]
    },
    {
      "cell_type": "code",
      "source": [
        "y = 20\n",
        "soma = x + y\n",
        "print(soma)"
      ],
      "metadata": {
        "colab": {
          "base_uri": "https://localhost:8080/"
        },
        "id": "Gfc_IbN-5zkE",
        "outputId": "b145c27c-baa7-436b-c7aa-f8fe7264efd9"
      },
      "execution_count": null,
      "outputs": [
        {
          "output_type": "stream",
          "name": "stdout",
          "text": [
            "30\n"
          ]
        }
      ]
    },
    {
      "cell_type": "code",
      "source": [
        "nome = 'Jhonatan Freitas'\n",
        "print(nome)"
      ],
      "metadata": {
        "colab": {
          "base_uri": "https://localhost:8080/"
        },
        "id": "CnZxgwyP7eEf",
        "outputId": "03788e83-a641-4628-fab4-e6b670f85b17"
      },
      "execution_count": null,
      "outputs": [
        {
          "output_type": "stream",
          "name": "stdout",
          "text": [
            "Jhonatan Freitas\n"
          ]
        }
      ]
    },
    {
      "cell_type": "code",
      "source": [
        "x = 10\n",
        "print('Eu ', nome,'Tirei', y, 'na prova de História')"
      ],
      "metadata": {
        "colab": {
          "base_uri": "https://localhost:8080/"
        },
        "id": "2G_wCjzO7x9R",
        "outputId": "f9cf3efa-ef6e-4394-d5e6-df0427959c89"
      },
      "execution_count": null,
      "outputs": [
        {
          "output_type": "stream",
          "name": "stdout",
          "text": [
            "Eu  Jhonatan Freitas Tirei 20 na prova de História\n"
          ]
        }
      ]
    },
    {
      "cell_type": "code",
      "source": [
        "j = 2700; h = 500; o = 460; n = 409; a = 100; t = 120; a = 400; n = 54\n",
        "soma = j- h - o - n - a - t - a - n\n",
        "print(soma)"
      ],
      "metadata": {
        "colab": {
          "base_uri": "https://localhost:8080/"
        },
        "id": "6Af_Q1xY92Zj",
        "outputId": "1192d3b6-3b4f-4e39-b536-8b42548bf216"
      },
      "execution_count": null,
      "outputs": [
        {
          "output_type": "stream",
          "name": "stdout",
          "text": [
            "712\n"
          ]
        }
      ]
    },
    {
      "cell_type": "code",
      "source": [
        "soma = x * y\n",
        "print('Eu', nome, 'calculei', x, '*', y, 'e o resultado foi', soma)"
      ],
      "metadata": {
        "colab": {
          "base_uri": "https://localhost:8080/"
        },
        "id": "_UjJ_Ofqinvs",
        "outputId": "11b9b3d3-7554-4f88-8239-9fadfc88ae7d"
      },
      "execution_count": null,
      "outputs": [
        {
          "output_type": "stream",
          "name": "stdout",
          "text": [
            "Eu Jhonatan Freitas calculei 10 * 20 e o resultado foi 200\n"
          ]
        }
      ]
    }
  ]
}